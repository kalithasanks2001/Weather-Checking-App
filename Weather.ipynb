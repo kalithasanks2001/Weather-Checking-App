{
 "cells": [
  {
   "cell_type": "markdown",
   "id": "2388a356",
   "metadata": {},
   "source": [
    "# Weather Checking Application"
   ]
  },
  {
   "cell_type": "raw",
   "id": "a5f10b62",
   "metadata": {},
   "source": [
    "We can execute the following functions:\n",
    "1. Check weather by city\n",
    "2. Add your favorite city\n",
    "3. Remove your favorite city\n",
    "4. Display your favorite cities\n",
    "5. Toggle auto-refresh (15 seconds)"
   ]
  },
  {
   "cell_type": "markdown",
   "id": "9a3e572c",
   "metadata": {},
   "source": [
    "# Importing Libraries"
   ]
  },
  {
   "cell_type": "code",
   "execution_count": 1,
   "id": "1131b605",
   "metadata": {},
   "outputs": [],
   "source": [
    "import requests\n",
    "import time\n",
    "import json"
   ]
  },
  {
   "cell_type": "markdown",
   "id": "ef4435c6",
   "metadata": {},
   "source": [
    "# API Key"
   ]
  },
  {
   "cell_type": "code",
   "execution_count": 2,
   "id": "8ef26c17",
   "metadata": {},
   "outputs": [],
   "source": [
    " # Replace the API key from https://www.weatherapi.com/\n",
    "API_KEY = 'c851881264344e7ca2353350240601'"
   ]
  },
  {
   "cell_type": "markdown",
   "id": "b2613da6",
   "metadata": {},
   "source": [
    "# Function To Get Weather By City Name"
   ]
  },
  {
   "cell_type": "code",
   "execution_count": 3,
   "id": "37458cf9",
   "metadata": {},
   "outputs": [],
   "source": [
    "def get_weather_by_city(city):\n",
    "    try:\n",
    "        url = f'http://api.weatherapi.com/v1/current.json?key={API_KEY}&q={city}'\n",
    "        response = requests.get(url)\n",
    "        data = response.json()\n",
    "        if 'error' in data:\n",
    "            print(f\"Error: {data['error']['message']}\")\n",
    "        else:\n",
    "            print(f\"Weather in {city}:\")\n",
    "            print(f\"Temperature: {data['current']['temp_c']}°C\")\n",
    "            print(f\"Condition: {data['current']['condition']['text']}\")\n",
    "    except requests.exceptions.RequestException as e:\n",
    "        print(f\"Error: {e}\")"
   ]
  },
  {
   "cell_type": "markdown",
   "id": "64aef7fe",
   "metadata": {},
   "source": [
    "# Function To Add Favourite City"
   ]
  },
  {
   "cell_type": "code",
   "execution_count": 4,
   "id": "f564643f",
   "metadata": {},
   "outputs": [],
   "source": [
    "def add_favorite_city(city, favorites):\n",
    "    if city not in favorites:\n",
    "        favorites.append(city)\n",
    "        print(f\"{city} added to favorites.\")\n",
    "    else:\n",
    "        print(f\"{city} is already in favorites.\")"
   ]
  },
  {
   "cell_type": "markdown",
   "id": "d70d1f0b",
   "metadata": {},
   "source": [
    "# Function To Remove Favourite City"
   ]
  },
  {
   "cell_type": "code",
   "execution_count": 5,
   "id": "3a0a6ef2",
   "metadata": {},
   "outputs": [],
   "source": [
    "def remove_favorite_city(city, favorites):\n",
    "    if city in favorites:\n",
    "        favorites.remove(city)\n",
    "        print(f\"{city} removed from favorites.\")\n",
    "    else:\n",
    "        print(f\"{city} is not in favorites.\")"
   ]
  },
  {
   "cell_type": "markdown",
   "id": "daa7881c",
   "metadata": {},
   "source": [
    "# Function To Display Favourite City"
   ]
  },
  {
   "cell_type": "code",
   "execution_count": 6,
   "id": "eceba662",
   "metadata": {},
   "outputs": [],
   "source": [
    "def display_favorites(favorites):\n",
    "    if favorites:\n",
    "        print(\"Favorite cities:\")\n",
    "        for city in favorites:\n",
    "            print(f\"- {city}\")\n",
    "    else:\n",
    "        print(\"No favorite cities.\")"
   ]
  },
  {
   "cell_type": "markdown",
   "id": "c8eb9b07",
   "metadata": {},
   "source": [
    "# Main Function To Get Data From User Input"
   ]
  },
  {
   "cell_type": "code",
   "execution_count": null,
   "id": "11d0ed92",
   "metadata": {},
   "outputs": [
    {
     "name": "stdout",
     "output_type": "stream",
     "text": [
      "\n",
      "Weather Checking Application!!!\n",
      "\n",
      "1. Check weather by city\n",
      "2. Add your favorite city\n",
      "3. Remove your favorite city\n",
      "4. Display your favorite cities\n",
      "5. Toggle auto-refresh (15 seconds)\n",
      "0. Exit\n",
      "Enter your choice: 1\n",
      "Enter the city name: Chennai\n",
      "Weather in Chennai:\n",
      "Temperature: 30.2°C\n",
      "Condition: Mist\n",
      "\n",
      "Weather Checking Application!!!\n",
      "\n",
      "1. Check weather by city\n",
      "2. Add your favorite city\n",
      "3. Remove your favorite city\n",
      "4. Display your favorite cities\n",
      "5. Toggle auto-refresh (15 seconds)\n",
      "0. Exit\n"
     ]
    }
   ],
   "source": [
    "def main():\n",
    "    favorites = []\n",
    "    auto_refresh = False\n",
    "\n",
    "    while True:\n",
    "        print(\"\\nWeather Checking Application!!!\\n\")\n",
    "        print(\"1. Check weather by city\")\n",
    "        print(\"2. Add your favorite city\")\n",
    "        print(\"3. Remove your favorite city\")\n",
    "        print(\"4. Display your favorite cities\")\n",
    "        print(\"5. Toggle auto-refresh (15 seconds)\")\n",
    "        print(\"0. Exit\")\n",
    "\n",
    "        choice = input(\"Enter your choice: \")\n",
    "\n",
    "        if choice == '1':\n",
    "            city_name = input(\"Enter the city name: \")\n",
    "            get_weather_by_city(city_name)\n",
    "\n",
    "        elif choice == '2':\n",
    "            city_name = input(\"Enter the city name to add to favorites: \")\n",
    "            add_favorite_city(city_name, favorites)\n",
    "\n",
    "        elif choice == '3':\n",
    "            city_name = input(\"Enter the city name to remove from favorites: \")\n",
    "            remove_favorite_city(city_name, favorites)\n",
    "\n",
    "        elif choice == '4':\n",
    "            display_favorites(favorites)\n",
    "\n",
    "        elif choice == '5':\n",
    "            auto_refresh = not auto_refresh\n",
    "            print(f\"Auto-refresh {'enabled' if auto_refresh else 'disabled'}.\")\n",
    "\n",
    "        elif choice == '0':\n",
    "            print(\"Exiting Weather Checking Application.....\")\n",
    "            break\n",
    "\n",
    "        else:\n",
    "            print(\"Invalid choice!!!\")\n",
    "\n",
    "        if auto_refresh:\n",
    "            time.sleep(15)\n",
    "\n",
    "if __name__ == \"__main__\":\n",
    "    main()"
   ]
  },
  {
   "cell_type": "code",
   "execution_count": null,
   "id": "7a1e92ea",
   "metadata": {},
   "outputs": [],
   "source": []
  }
 ],
 "metadata": {
  "kernelspec": {
   "display_name": "Python 3 (ipykernel)",
   "language": "python",
   "name": "python3"
  },
  "language_info": {
   "codemirror_mode": {
    "name": "ipython",
    "version": 3
   },
   "file_extension": ".py",
   "mimetype": "text/x-python",
   "name": "python",
   "nbconvert_exporter": "python",
   "pygments_lexer": "ipython3",
   "version": "3.11.5"
  }
 },
 "nbformat": 4,
 "nbformat_minor": 5
}
